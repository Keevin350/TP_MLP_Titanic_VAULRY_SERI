{
 "cells": [
  {
   "cell_type": "code",
   "execution_count": 78,
   "id": "2a736755",
   "metadata": {},
   "outputs": [],
   "source": [
    "import warnings\n",
    "from sklearn.datasets import fetch_openml\n",
    "from sklearn.neural_network import MLPClassifier\n",
    "from sklearn.model_selection import train_test_split, GridSearchCV\n",
    "import pandas as pd\n",
    "import re\n",
    "import numpy as np\n",
    "from sklearn.preprocessing import StandardScaler\n",
    "\n",
    "warnings.simplefilter(\"ignore\")"
   ]
  },
  {
   "cell_type": "code",
   "execution_count": 79,
   "id": "63d224b9",
   "metadata": {},
   "outputs": [],
   "source": [
    "train = pd.read_csv(\"train.csv\")"
   ]
  },
  {
   "cell_type": "code",
   "execution_count": 80,
   "id": "c989192d",
   "metadata": {},
   "outputs": [
    {
     "name": "stdout",
     "output_type": "stream",
     "text": [
      "<class 'pandas.core.frame.DataFrame'>\n",
      "RangeIndex: 891 entries, 0 to 890\n",
      "Data columns (total 12 columns):\n",
      " #   Column       Non-Null Count  Dtype  \n",
      "---  ------       --------------  -----  \n",
      " 0   PassengerId  891 non-null    int64  \n",
      " 1   Survived     891 non-null    int64  \n",
      " 2   Pclass       891 non-null    int64  \n",
      " 3   Name         891 non-null    object \n",
      " 4   Sex          891 non-null    object \n",
      " 5   Age          714 non-null    float64\n",
      " 6   SibSp        891 non-null    int64  \n",
      " 7   Parch        891 non-null    int64  \n",
      " 8   Ticket       891 non-null    object \n",
      " 9   Fare         891 non-null    float64\n",
      " 10  Cabin        204 non-null    object \n",
      " 11  Embarked     889 non-null    object \n",
      "dtypes: float64(2), int64(5), object(5)\n",
      "memory usage: 83.7+ KB\n"
     ]
    }
   ],
   "source": [
    "train.info()"
   ]
  },
  {
   "cell_type": "code",
   "execution_count": 81,
   "id": "ae65afde",
   "metadata": {},
   "outputs": [],
   "source": [
    "#suppression des colonnes non utiles\n",
    "train = train.drop(['PassengerId'], axis=1)\n",
    "train = train.drop(['Cabin'], axis=1)\n",
    "train = train.drop(['Ticket'], axis=1)"
   ]
  },
  {
   "cell_type": "code",
   "execution_count": 82,
   "id": "cc835d65",
   "metadata": {},
   "outputs": [
    {
     "name": "stdout",
     "output_type": "stream",
     "text": [
      "Q : 77  S : 644  C : 168  N : 2\n"
     ]
    }
   ],
   "source": [
    "#Remplacer les valeurs de la Q,S,C par 1, 2 et 3\n",
    "\n",
    "Q = 0\n",
    "S = 0\n",
    "C = 0\n",
    "N = 0\n",
    "\n",
    "for i in range(len(train)):\n",
    "    if train.iloc[i,8] == \"Q\":\n",
    "        Q+=1\n",
    "    elif train.iloc[i,8] == \"S\":\n",
    "        S+=1\n",
    "    elif train.iloc[i,8] == \"C\":\n",
    "        C+=1\n",
    "    else:\n",
    "        N+=1\n",
    "print(\"Q :\", Q, \" S :\",S,\" C :\",C,\" N :\",N)\n",
    "\n",
    "\n",
    "\n",
    "train['Embarked'] = train['Embarked'].replace(['Q'],'1')\n",
    "train['Embarked'] = train['Embarked'].replace(['S'],'2')\n",
    "train['Embarked'] = train['Embarked'].replace(['C'],'3')\n",
    "train['Embarked'] = train['Embarked'].fillna('2')"
   ]
  },
  {
   "cell_type": "code",
   "execution_count": 83,
   "id": "f0c6e42d",
   "metadata": {},
   "outputs": [],
   "source": [
    "#Remplcaer les données catégoriques \"male et female\" par 1 et 0\n",
    "train['Sex'] = train['Sex'].replace(['male'],'1')\n",
    "train['Sex'] = train['Sex'].replace(['female'],'0')"
   ]
  },
  {
   "cell_type": "code",
   "execution_count": 84,
   "id": "6563903d",
   "metadata": {},
   "outputs": [
    {
     "name": "stdout",
     "output_type": "stream",
     "text": [
      "['Mr', 'Mrs', 'Miss', 'Master', 'Don', 'Rev', 'Dr', 'Mme', 'Ms', 'Major', 'Lady', 'Sir', 'Mlle', 'Col', 'Capt', 'Countess', 'Jonkheer']\n"
     ]
    }
   ],
   "source": [
    "#conversion colonne Name\n",
    "\n",
    "newV = train['Name'].copy()\n",
    "liste = []\n",
    "\n",
    "for i in range(len(newV)):\n",
    "    valeur = newV[i]\n",
    "    chaine = re.findall(\" ([A-Za-z]+)\\.\", valeur)[0]\n",
    "    \n",
    "    if chaine not in liste:\n",
    "        liste.append(chaine)\n",
    "    \n",
    "    if chaine == \"Mr\":\n",
    "        newV[i] = 1\n",
    "    elif chaine == \"Miss\":\n",
    "        newV[i] = 2\n",
    "    elif chaine == \"Mrs\":\n",
    "        newV[i] = 3\n",
    "    elif chaine == \"Master\":\n",
    "        newV[i] = 4\n",
    "    elif chaine == \"Dr\":\n",
    "        newV[i] = 5\n",
    "    elif chaine == \"Rev\":\n",
    "        newV[i] = 6\n",
    "    elif chaine == \"Don\":\n",
    "        newV[i] = 7\n",
    "    elif chaine == \"Mme\":\n",
    "        newV[i] = 8\n",
    "    elif chaine == \"Ms\":\n",
    "        newV[i] = 9\n",
    "    elif chaine == \"Major\":\n",
    "        newV[i] = 10\n",
    "    elif chaine == \"Lady\":\n",
    "        newV[i] = 11\n",
    "    elif chaine == \"Sir\":\n",
    "        newV[i] = 12\n",
    "    elif chaine == \"Mlle\":\n",
    "        newV[i] = 13\n",
    "    elif chaine == \"Col\":\n",
    "        newV[i] = 14\n",
    "    elif chaine == \"Capt\":\n",
    "        newV[i] = 15\n",
    "    elif chaine == \"Countess\":\n",
    "        newV[i] = 16\n",
    "    elif chaine == \"Jonkheer\":\n",
    "        newV[i] = 17\n",
    "    else:\n",
    "        newV[i] = 18\n",
    "        \n",
    "\n",
    "train['Name'] = newV \n",
    "print(liste)"
   ]
  },
  {
   "cell_type": "code",
   "execution_count": 85,
   "id": "06492e4b",
   "metadata": {},
   "outputs": [],
   "source": [
    "averageAge = round(train['Age'].sum()/len(train))\n",
    "train['Age'] = train['Age'].fillna(averageAge)"
   ]
  },
  {
   "cell_type": "code",
   "execution_count": 86,
   "id": "d7454d9b",
   "metadata": {},
   "outputs": [],
   "source": [
    "train['Embarked'] = train['Embarked'].astype('int64')\n",
    "train['Name'] = train['Name'].astype('int64')\n",
    "train['Sex'] = train['Sex'].astype('int64')"
   ]
  },
  {
   "cell_type": "code",
   "execution_count": 87,
   "id": "564f2e22",
   "metadata": {},
   "outputs": [
    {
     "name": "stdout",
     "output_type": "stream",
     "text": [
      "Avec Valeurs Manquantes : 891   Sans Valeurs Manquantes : 891\n",
      "0      0\n",
      "1      1\n",
      "2      1\n",
      "3      1\n",
      "4      0\n",
      "      ..\n",
      "886    0\n",
      "887    1\n",
      "888    0\n",
      "889    1\n",
      "890    0\n",
      "Name: Survived, Length: 891, dtype: int64\n"
     ]
    }
   ],
   "source": [
    "AvecValeursManquantes = len(train)\n",
    "train = train.dropna()\n",
    "SansValeursManquantes = len(train)\n",
    "\n",
    "print(\"Avec Valeurs Manquantes :\", AvecValeursManquantes,\"  Sans Valeurs Manquantes :\",SansValeursManquantes)\n",
    "\n",
    "y = train['Survived']\n",
    "train = train.drop(['Survived'], axis=1)\n",
    "print(y)"
   ]
  },
  {
   "cell_type": "code",
   "execution_count": 88,
   "id": "8f16e214",
   "metadata": {},
   "outputs": [
    {
     "name": "stdout",
     "output_type": "stream",
     "text": [
      "0.8156424581005587\n",
      "--- 0.6053063869476318 seconds ---\n"
     ]
    }
   ],
   "source": [
    "import time\n",
    "from sklearn.metrics import accuracy_score\n",
    "\n",
    "scaler = StandardScaler()\n",
    "train = scaler.fit_transform(train)\n",
    "\n",
    "X_train, X_test, y_train, y_test = train_test_split(train, y, test_size=0.2, random_state=0)\n",
    "\n",
    "\n",
    "start_time = time.time()\n",
    "mlp = MLPClassifier()\n",
    "mlp.fit(X_train, y_train)\n",
    "prediction = mlp.predict(X_test)\n",
    "print(accuracy_score(y_test, prediction))\n",
    "print(\"--- %s seconds ---\" % (time.time() - start_time))"
   ]
  },
  {
   "cell_type": "code",
   "execution_count": 170,
   "id": "196921a2",
   "metadata": {},
   "outputs": [],
   "source": [
    "from tensorflow.keras.layers import Dense, Input\n",
    "from tensorflow.keras.models import Sequential\n"
   ]
  },
  {
   "cell_type": "code",
   "execution_count": 171,
   "id": "c80b1dc6",
   "metadata": {},
   "outputs": [
    {
     "data": {
      "text/plain": [
       "(891, 8)"
      ]
     },
     "execution_count": 171,
     "metadata": {},
     "output_type": "execute_result"
    }
   ],
   "source": [
    "train.shape"
   ]
  },
  {
   "cell_type": "code",
   "execution_count": 172,
   "id": "6f2c837d",
   "metadata": {},
   "outputs": [
    {
     "name": "stdout",
     "output_type": "stream",
     "text": [
      "WARNING:tensorflow:Please add `keras.layers.InputLayer` instead of `keras.Input` to Sequential model. `keras.Input` is intended to be used by Functional model.\n"
     ]
    }
   ],
   "source": [
    "#traduction de notre MLP avec le  scoore le plus haut sur KEras\n",
    "\n",
    "model = Sequential()\n",
    "model.add(Input(train.shape))\n",
    "model.add(Dense(units=70, activation=\"relu\"))\n",
    "model.add(Dense(units=1, activation=\"sigmoid\"))\n",
    "model.compile(loss=\"BinaryCrossentropy\", optimizer=\"adam\", metrics=[\"accuracy\"])"
   ]
  },
  {
   "cell_type": "code",
   "execution_count": 173,
   "id": "5afe8ca0",
   "metadata": {},
   "outputs": [
    {
     "name": "stdout",
     "output_type": "stream",
     "text": [
      "Epoch 1/10\n",
      "WARNING:tensorflow:Model was constructed with shape (None, 891, 8) for input KerasTensor(type_spec=TensorSpec(shape=(None, 891, 8), dtype=tf.float32, name='input_18'), name='input_18', description=\"created by layer 'input_18'\"), but it was called on an input with incompatible shape (None, 8).\n",
      "WARNING:tensorflow:Model was constructed with shape (None, 891, 8) for input KerasTensor(type_spec=TensorSpec(shape=(None, 891, 8), dtype=tf.float32, name='input_18'), name='input_18', description=\"created by layer 'input_18'\"), but it was called on an input with incompatible shape (None, 8).\n",
      "2/2 [==============================] - 0s 1ms/step - loss: 0.6306 - accuracy: 0.6826\n",
      "Epoch 2/10\n",
      "2/2 [==============================] - 0s 935us/step - loss: 0.6191 - accuracy: 0.6966\n",
      "Epoch 3/10\n",
      "2/2 [==============================] - 0s 857us/step - loss: 0.6080 - accuracy: 0.7289\n",
      "Epoch 4/10\n",
      "2/2 [==============================] - 0s 917us/step - loss: 0.5975 - accuracy: 0.7444\n",
      "Epoch 5/10\n",
      "2/2 [==============================] - 0s 938us/step - loss: 0.5875 - accuracy: 0.7486\n",
      "Epoch 6/10\n",
      "2/2 [==============================] - 0s 839us/step - loss: 0.5779 - accuracy: 0.7528\n",
      "Epoch 7/10\n",
      "2/2 [==============================] - 0s 865us/step - loss: 0.5689 - accuracy: 0.7556\n",
      "Epoch 8/10\n",
      "2/2 [==============================] - 0s 893us/step - loss: 0.5603 - accuracy: 0.7640\n",
      "Epoch 9/10\n",
      "2/2 [==============================] - 0s 903us/step - loss: 0.5519 - accuracy: 0.7711\n",
      "Epoch 10/10\n",
      "2/2 [==============================] - 0s 1ms/step - loss: 0.5442 - accuracy: 0.7753\n",
      "WARNING:tensorflow:Model was constructed with shape (None, 891, 8) for input KerasTensor(type_spec=TensorSpec(shape=(None, 891, 8), dtype=tf.float32, name='input_18'), name='input_18', description=\"created by layer 'input_18'\"), but it was called on an input with incompatible shape (None, 8).\n",
      "6/6 [==============================] - 0s 541us/step - loss: 0.5194 - accuracy: 0.8212\n"
     ]
    }
   ],
   "source": [
    "model.fit(X_train, y_train, batch_size=400, epochs = 10, verbose =1)\n",
    "score = model.evaluate(X_test, y_test)"
   ]
  },
  {
   "cell_type": "code",
   "execution_count": 174,
   "id": "3fcccd14",
   "metadata": {},
   "outputs": [
    {
     "name": "stdout",
     "output_type": "stream",
     "text": [
      "Test loss: 0.5193780660629272\n",
      "Test accuracy: 0.8212290406227112\n"
     ]
    }
   ],
   "source": [
    "print('Test loss:', score[0])\n",
    "print('Test accuracy:', score[1])"
   ]
  },
  {
   "cell_type": "code",
   "execution_count": 121,
   "id": "d97ad688",
   "metadata": {},
   "outputs": [
    {
     "name": "stdout",
     "output_type": "stream",
     "text": [
      "Model: \"sequential_33\"\n",
      "_________________________________________________________________\n",
      "Layer (type)                 Output Shape              Param #   \n",
      "=================================================================\n",
      "dense_56 (Dense)             (None, 70)                630       \n",
      "_________________________________________________________________\n",
      "dense_57 (Dense)             (None, 1)                 71        \n",
      "=================================================================\n",
      "Total params: 701\n",
      "Trainable params: 701\n",
      "Non-trainable params: 0\n",
      "_________________________________________________________________\n"
     ]
    }
   ],
   "source": [
    "model.summary()"
   ]
  },
  {
   "cell_type": "code",
   "execution_count": null,
   "id": "2dc14ea0",
   "metadata": {},
   "outputs": [],
   "source": []
  }
 ],
 "metadata": {
  "kernelspec": {
   "display_name": "Python 3 (ipykernel)",
   "language": "python",
   "name": "python3"
  },
  "language_info": {
   "codemirror_mode": {
    "name": "ipython",
    "version": 3
   },
   "file_extension": ".py",
   "mimetype": "text/x-python",
   "name": "python",
   "nbconvert_exporter": "python",
   "pygments_lexer": "ipython3",
   "version": "3.9.13"
  }
 },
 "nbformat": 4,
 "nbformat_minor": 5
}
